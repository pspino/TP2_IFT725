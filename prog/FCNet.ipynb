{
 "cells": [
  {
   "cell_type": "markdown",
   "metadata": {},
   "source": [
    "# Réseaux pleinement connectés \n",
    "\n",
    "Cet exercice fait suite au devoir 1.  L'objectif ici est d'implanter un réseau pleinement connecté avec une approche plus modulaire. Pour chaque couche, vous serez appelé à implanter une fonction `forward` et une fonction `backward`. La fonction `forward` reçoit en entrée un tenseur `x`, des poids `w` et possiblement d'autres parameters, et retourne le tenseur de sortie de la couche `out`.  La fonction retourne aussi une variable `cache`  contenant des données utilisés pour la rétropropagation (fonction `backward`).  La structure de la fonction `forward` est la suivante : \n",
    "\n",
    "```python\n",
    "def layer_forward(x, w):\n",
    "  \"\"\" Receive inputs x and weights w \"\"\"\n",
    "  # Do some computations ...\n",
    "  z = # ... some intermediate value\n",
    "  # Do some more computations ...\n",
    "  out = # the output\n",
    "   \n",
    "  cache = (x, w, z, out) # Values we need to compute gradients\n",
    "   \n",
    "  return out, cache\n",
    "```\n",
    "\n",
    "N'oubliez pas que `x` est une `batch` et donc conbient plus d'un élément.\n",
    "\n",
    "En rétropropagation, la fonction `backward` de la couche reçoit en entrée un tenseur de dérivées `dout` ainsi que la liste `cache` calculée lors de la propagation avant (fonction `forward`).  Elle retourne deux tenseurs de gradients: un par rapport à ses entrée (`dx`) et un par rapport à ses poids (`dw`) (et parfois un par rapport aux bias `db`).  La structure de la fonction `backward` est la suivante : \n",
    "\n",
    "```python\n",
    "def layer_backward(dout, cache):\n",
    "  \"\"\"\n",
    "  Receive derivative of loss with respect to outputs and cache,\n",
    "  and compute derivative with respect to inputs.\n",
    "  \"\"\"\n",
    "  # Unpack cache values\n",
    "  x, w, z, out = cache\n",
    "  \n",
    "  # Use values in cache to compute derivatives\n",
    "  dx = # Derivative of loss with respect to x\n",
    "  dw = # Derivative of loss with respect to w\n",
    "  \n",
    "  return dx, dw\n",
    "```\n",
    "\n",
    "Une fois ce type de couches implanté, il sera possible de les combiner ensemble et ainsi construire des réseaux de neurones de différentes architectures.\n",
    "\n",
    "En plus des réseaux pleinement connectés, nous explorerons différents algorithme de descente de gradient et  introduirons *Dropout* et *Batch Norm*.\n",
    "  "
   ]
  },
  {
   "cell_type": "code",
   "execution_count": 54,
   "metadata": {
    "pycharm": {
     "is_executing": false
    }
   },
   "outputs": [
    {
     "name": "stdout",
     "text": [
      "The autoreload extension is already loaded. To reload it, use:\n",
      "  %reload_ext autoreload\n",
      "setup done!\n"
     ],
     "output_type": "stream"
    }
   ],
   "source": [
    "# As usual, a bit of setup\n",
    "\n",
    "#import time\n",
    "import numpy as np\n",
    "import matplotlib.pyplot as plt\n",
    "from ift725.classifiers.fc_net import *\n",
    "from ift725.data_utils import get_CIFAR10_data\n",
    "from ift725.gradient_check import eval_numerical_gradient, eval_numerical_gradient_array\n",
    "from ift725.solver import Solver\n",
    "\n",
    "%matplotlib inline\n",
    "plt.rcParams['figure.figsize'] = (10.0, 8.0) # set default size of plots\n",
    "plt.rcParams['image.interpolation'] = 'nearest'\n",
    "plt.rcParams['image.cmap'] = 'gray'\n",
    "\n",
    "# for auto-reloading external modules\n",
    "# see http://stackoverflow.com/questions/1907993/autoreload-of-modules-in-ipython\n",
    "%load_ext autoreload\n",
    "%autoreload 2\n",
    "\n",
    "def rel_error(x, y):\n",
    "  \"\"\" returns relative error \"\"\"\n",
    "  return np.max(np.abs(x - y) / (np.maximum(1e-8, np.abs(x) + np.abs(y))))\n",
    "\n",
    "print('setup done!')"
   ]
  },
  {
   "cell_type": "code",
   "execution_count": 55,
   "metadata": {
    "pycharm": {
     "is_executing": false
    }
   },
   "outputs": [
    {
     "name": "stdout",
     "text": [
      "X_train:  (49000, 3, 32, 32)\n",
      "y_train:  (49000,)\n",
      "X_val:  (1000, 3, 32, 32)\n",
      "y_val:  (1000,)\n",
      "X_test:  (1000, 3, 32, 32)\n",
      "y_test:  (1000,)\n"
     ],
     "output_type": "stream"
    }
   ],
   "source": [
    "# Load the (preprocessed) CIFAR10 data.\n",
    "\n",
    "data = get_CIFAR10_data()\n",
    "for k, v in data.items():\n",
    "  print('%s: ' % k, v.shape)"
   ]
  },
  {
   "cell_type": "markdown",
   "metadata": {},
   "source": [
    "# Couche pleinement connectée : propagation avant\n",
    "Dans le fichier `ift725/layers.py`, vous devez coder la fonction `forward_fully_connected` et la tester avec le code de la cellule suivante."
   ]
  },
  {
   "cell_type": "code",
   "execution_count": 56,
   "metadata": {
    "pycharm": {
     "is_executing": false
    }
   },
   "outputs": [
    {
     "name": "stdout",
     "text": [
      "x-shape  =  (1, 2, 2, 3)\n",
      "w-shape  =  (12, 1)\n",
      "b-shape  =  (1,)\n",
      "out =  [[36.7]]\n",
      "correct_out =  36.7\n",
      "Testing forward_fully_connected function:\n",
      "difference:  0.0\n"
     ],
     "output_type": "stream"
    }
   ],
   "source": [
    "# Test the forward_fully_connected function : batch 1 and 1 output neuron\n",
    "\n",
    "input_shape = (2, 2, 3) # an 2x2x3 input variable (a CIFAR10 image would have a 32x32x3 shape)\n",
    "\n",
    "input_size = np.prod(input_shape) # here 12\n",
    "weight_size = np.prod(input_shape) # here 12\n",
    "\n",
    "x = np.floor(np.linspace(-0.1, 0.5, num=input_size).reshape(1, *input_shape)*10)\n",
    "w = np.floor(np.linspace(-0.2, 0.3, num=weight_size).reshape(weight_size, 1)*10)\n",
    "b = np.linspace(-0.3, 0.1, num=1)\n",
    "\n",
    "print('x-shape  = ', x.shape)\n",
    "print('w-shape  = ', w.shape)\n",
    "print('b-shape  = ', b.shape)\n",
    "\n",
    "out, _ = forward_fully_connected(x, w, b)\n",
    "correct_out = 36.7\n",
    "\n",
    "print('out = ', out)\n",
    "print('correct_out = ', correct_out)\n",
    "\n",
    "# Compare your output with ours. The error should be around 1e-9.\n",
    "print('Testing forward_fully_connected function:')\n",
    "print('difference: ', rel_error(out, correct_out))"
   ]
  },
  {
   "cell_type": "code",
   "execution_count": 57,
   "metadata": {
    "pycharm": {
     "is_executing": false
    }
   },
   "outputs": [
    {
     "name": "stdout",
     "text": [
      "x-shape  =  (2, 2, 2, 3)\n",
      "w-shape  =  (12, 1)\n",
      "b-shape  =  (1,)\n",
      "out =  [[14.7]\n",
      " [20.7]]\n",
      "correct_out =  [14.7 20.7]\n",
      "Testing forward_fully_connected function:\n",
      "difference:  0.0\n"
     ],
     "output_type": "stream"
    }
   ],
   "source": [
    "# Test the forward_fully_connected function : batch 2 and 1 output neuron\n",
    "\n",
    "num_inputs = 2          # batch of 2 input variables\n",
    "input_shape = (2, 2, 3) # an 2x2x3 input variable (a CIFAR10 image would have a 32x32x3 shape)\n",
    "\n",
    "input_size = num_inputs * np.prod(input_shape) # here 2x12 = 24\n",
    "weight_size = np.prod(input_shape) # here 12\n",
    "\n",
    "x = np.floor(np.linspace(-0.1, 0.5, num=input_size).reshape(num_inputs, *input_shape)*10)\n",
    "w = np.floor(np.linspace(-0.2, 0.3, num=weight_size).reshape(weight_size, 1)*10)\n",
    "b = np.linspace(-0.3, 0.1, num=1)\n",
    "\n",
    "print('x-shape  = ', x.shape)\n",
    "print('w-shape  = ', w.shape)\n",
    "print('b-shape  = ', b.shape)\n",
    "\n",
    "out, _ = forward_fully_connected(x, w, b)\n",
    "correct_out = np.array([14.7, 20.7])\n",
    "\n",
    "print('out = ', out)\n",
    "print('correct_out = ', correct_out)\n",
    "\n",
    "# Compare your output with ours. The error should be around 1e-9.\n",
    "print('Testing forward_fully_connected function:')\n",
    "print('difference: ', rel_error(out.T, correct_out))"
   ]
  },
  {
   "cell_type": "code",
   "execution_count": 58,
   "metadata": {
    "pycharm": {
     "is_executing": false
    }
   },
   "outputs": [
    {
     "name": "stdout",
     "text": [
      "x-shape  =  (2, 2, 2, 3)\n",
      "w-shape  =  (12, 2)\n",
      "b-shape  =  (2,)\n",
      "out =  [[12.7 14.1]\n",
      " [11.7 23.1]]\n",
      "correct_out =  [[12.7 14.1]\n",
      " [11.7 23.1]]\n",
      "Testing forward_fully_connected function:\n",
      "difference:  0.0\n"
     ],
     "output_type": "stream"
    }
   ],
   "source": [
    "# Test the forward_fully_connected function : batch 2 and 2 output neurons\n",
    "num_inputs = 2          # batch of 2 input variables\n",
    "input_shape = (2, 2, 3) # each variable as a 2x2x3 shape (a CIFAR10 RBG image would have a 32x32x3 shape)\n",
    "output_dim = 2          # the output has 2 neurons\n",
    "\n",
    "input_size = num_inputs * np.prod(input_shape)  #here 2x2x2x3 = 24\n",
    "weight_size = output_dim * np.prod(input_shape) #here 2x12 = 24\n",
    "\n",
    "x = np.floor(np.linspace(-0.1, 0.5, num=input_size).reshape(num_inputs, *input_shape)*10)\n",
    "w = np.floor(np.linspace(-0.2, 0.3, num=weight_size).reshape(np.prod(input_shape), output_dim)*10)\n",
    "b = np.linspace(-0.3, 0.1, num=output_dim)\n",
    "\n",
    "print('x-shape  = ', x.shape)\n",
    "print('w-shape  = ', w.shape)\n",
    "print('b-shape  = ', b.shape)\n",
    "\n",
    "out, _ = forward_fully_connected(x, w, b)\n",
    "correct_out = np.array([[ 12.7,  14.1],\n",
    "                        [ 11.7,  23.1]])\n",
    "\n",
    "print('out = ', out)\n",
    "print('correct_out = ', correct_out)\n",
    "\n",
    "# Compare your output with ours. The error should be around 1e-9.\n",
    "print('Testing forward_fully_connected function:')\n",
    "print('difference: ', rel_error(out, correct_out))"
   ]
  },
  {
   "cell_type": "markdown",
   "metadata": {},
   "source": [
    "# Couche pleinement connectée : rétro-propagation\n",
    "If faut maintenant implanter la fonction `backward_fully_connected` et tester votre code avec un gradient numérique."
   ]
  },
  {
   "cell_type": "code",
   "execution_count": 59,
   "metadata": {
    "pycharm": {
     "is_executing": false
    }
   },
   "outputs": [
    {
     "name": "stdout",
     "text": [
      "Testing backward_fully_connected function:\n",
      "dx error:  1.0271237304173343e-10\n",
      "dw error:  1.3130023757689892e-10\n",
      "db error:  1.2859520095614724e-11\n"
     ],
     "output_type": "stream"
    }
   ],
   "source": [
    "# Test the backward_fully_connected function\n",
    "# Here a case for a batch of 10 elements\n",
    "# Each elements has a 2x3 size\n",
    "# The layer has 5 output neurons\n",
    "\n",
    "x = np.random.randn(10, 2, 3)  # batch of 10 elements, each of size 2x3\n",
    "w = np.random.randn(6, 5)      # 2x3=6 weigts times 5 output neurones\n",
    "b = np.random.randn(5)         # one bias for each output neurone\n",
    "dout = np.random.randn(10, 5)  # the upcoming gradient at each output neuron and for each element of the batch\n",
    "\n",
    "dx_num = eval_numerical_gradient_array(lambda x: forward_fully_connected(x, w, b)[0], x, dout)\n",
    "dw_num = eval_numerical_gradient_array(lambda w: forward_fully_connected(x, w, b)[0], w, dout)\n",
    "db_num = eval_numerical_gradient_array(lambda b: forward_fully_connected(x, w, b)[0], b, dout)\n",
    "\n",
    "_, cache = forward_fully_connected(x, w, b)\n",
    "dx, dw, db = backward_fully_connected(dout, cache)\n",
    "\n",
    "# The error should be around 1e-10\n",
    "print('Testing backward_fully_connected function:')\n",
    "print('dx error: ', rel_error(dx_num, dx))  #Gradient with respect to the input x : size 10x2x3\n",
    "print('dw error: ', rel_error(dw_num, dw))  #Gradient with respect to the weights w : size 5x6\n",
    "print('db error: ', rel_error(db_num, db))  #Gradient with respect to the bias : size 5"
   ]
  },
  {
   "cell_type": "markdown",
   "metadata": {},
   "source": [
    "# Couche ReLU : propagation avant\n",
    "Il faut implanter la fonction d'activation ReLU avec la fonction `relu_forward`.  Testez votre implantation avec la cellule que voici:"
   ]
  },
  {
   "cell_type": "code",
   "execution_count": 60,
   "metadata": {
    "pycharm": {
     "is_executing": false
    }
   },
   "outputs": [
    {
     "name": "stdout",
     "text": [
      "Testing forward_relu function:\n",
      "difference:  4.999999798022158e-08\n"
     ],
     "output_type": "stream"
    }
   ],
   "source": [
    "# Test the relu_forward function\n",
    "\n",
    "x = np.linspace(-0.5, 0.5, num=12).reshape(3, 4)\n",
    "\n",
    "out, _ = forward_relu(x)\n",
    "correct_out = np.array([[ 0.,          0.,          0.,          0.,        ],\n",
    "                        [ 0.,          0.,          0.04545455,  0.13636364,],\n",
    "                        [ 0.22727273,  0.31818182,  0.40909091,  0.5,       ]])\n",
    "\n",
    "# Compare your output with ours. The error should be around 1e-8\n",
    "print('Testing forward_relu function:')\n",
    "print('difference: ', rel_error(out, correct_out))"
   ]
  },
  {
   "cell_type": "markdown",
   "metadata": {},
   "source": [
    "# Couche ReLU : rétropropagation\n",
    "Maintenant il faut implanter la rétro-propagation pour une fonction d'activation ReLU via la fonction `relu_backward`.  Testez votre implantation avec le gradient numérique que voici:"
   ]
  },
  {
   "cell_type": "code",
   "execution_count": 61,
   "metadata": {
    "pycharm": {
     "is_executing": false
    }
   },
   "outputs": [
    {
     "name": "stdout",
     "text": [
      "x =  [[-0.31337391 -1.65252624]\n",
      " [ 0.03750689 -0.3410416 ]]\n",
      "dout  =  [[-0.73664635 -1.05817718]\n",
      " [-0.59776188  0.73814028]]\n",
      "Testing backward_relu function:\n",
      "dx error:  1.5304150372252801e-13\n"
     ],
     "output_type": "stream"
    }
   ],
   "source": [
    "x = np.random.randn(2, 2)\n",
    "dout = np.random.randn(*x.shape) # Upstream gradient that retropropagates at that layer\n",
    "print(\"x = \", x)\n",
    "print(\"dout  = \", dout)\n",
    "\n",
    "dx_num = eval_numerical_gradient_array(lambda xx: forward_relu(xx)[0], x, dout)\n",
    "\n",
    "_, cache = forward_relu(x)\n",
    "dx = backward_relu(dout, cache)\n",
    "\n",
    "# The error should be around 1e-12\n",
    "print('Testing backward_relu function:')\n",
    "print('dx error: ', rel_error(dx_num, dx))"
   ]
  },
  {
   "cell_type": "markdown",
   "metadata": {},
   "source": [
    "# Couches \"Combo\"\n",
    "Souvent, on combine une couche pleinement connectée avec une fonction d'activation comme ReLU. Afin de simplifier ces situations, nous avons différentes fonctions à cet effet dans `ift725/layer_combo.py`.\n",
    "\n",
    "Pour l'instant, nous porterons notre attention sur les fonctions `forward_fully_connected_transform_relu` et `backward_fully_connected_transform_relu`.  Vous pouvez vérifier le code à l'aide de la vérification numérique que voici:"
   ]
  },
  {
   "cell_type": "code",
   "execution_count": 62,
   "metadata": {
    "pycharm": {
     "is_executing": false
    }
   },
   "outputs": [
    {
     "name": "stdout",
     "text": [
      "Testing forward_fully_connected_transform_relu:\n",
      "dx error:  1.1441489537188406e-10\n",
      "dw error:  2.1007381848270422e-08\n",
      "db error:  3.788144390620969e-12\n"
     ],
     "output_type": "stream"
    }
   ],
   "source": [
    "from ift725.layer_combo import forward_fully_connected_transform_relu, backward_fully_connected_transform_relu\n",
    "\n",
    "x = np.random.randn(2, 3, 4)  # Batch of 2 elements of size 3x4\n",
    "w = np.random.randn(12, 10)   # 10 output neurons, each associated with 12=3x4 weights\n",
    "b = np.random.randn(10)       # 10 biases\n",
    "dout = np.random.randn(2, 10) # up stream gradient for each neuron (10) and each batch element (2)\n",
    "\n",
    "out, cache = forward_fully_connected_transform_relu(x, w, b)\n",
    "dx, dw, db = backward_fully_connected_transform_relu(dout, cache)\n",
    "\n",
    "dx_num = eval_numerical_gradient_array(lambda xx: forward_fully_connected_transform_relu(xx, w, b)[0], x, dout)\n",
    "dw_num = eval_numerical_gradient_array(lambda ww: forward_fully_connected_transform_relu(x, ww, b)[0], w, dout)\n",
    "db_num = eval_numerical_gradient_array(lambda bb: forward_fully_connected_transform_relu(x, w, bb)[0], b, dout)\n",
    "\n",
    "# Error should be around 1e-10\n",
    "print('Testing forward_fully_connected_transform_relu:')\n",
    "print('dx error: ', rel_error(dx_num, dx))\n",
    "print('dw error: ', rel_error(dw_num, dw))\n",
    "print('db error: ', rel_error(db_num, db))"
   ]
  },
  {
   "cell_type": "markdown",
   "metadata": {},
   "source": [
    "# Fonctions de perte : Softmax et SVM\n",
    "Au devoir 1, vous avez implanter ces deux fonctions de perte.  Vous devez donc récupérer votre code et l'adapter aux fonctions `softmax_loss` et `svm_loss` du fichier `ift725/layers.py`.\n",
    "\n",
    "Afin de vous assurer que tout fonctionne pour le mieux, exécutez le code que voici:"
   ]
  },
  {
   "cell_type": "code",
   "execution_count": 63,
   "metadata": {
    "pycharm": {
     "is_executing": false
    }
   },
   "outputs": [
    {
     "name": "stdout",
     "text": [
      "Testing svm_loss:\n",
      "loss:  9.001779896196078\n",
      "dx error:  8.182894472887002e-10\n",
      "(0, 0) 0.002004531474142368\n",
      "(0, 1) 0.002001764842773923\n",
      "(0, 2) -0.01799922022538425\n",
      "(0, 3) 0.0019979408349968253\n",
      "(0, 4) 0.0019977952181449155\n",
      "(0, 5) 0.0020001226452848186\n",
      "(0, 6) 0.001998498477817634\n",
      "(0, 7) 0.001999014931364229\n",
      "(0, 8) 0.0019997878464295127\n",
      "(0, 9) 0.0019997639766344832\n",
      "(1, 0) 0.00199940810574617\n",
      "(1, 1) 0.00200008032358312\n",
      "(1, 2) 0.0020005885392748723\n",
      "(1, 3) 0.0020015360480130084\n",
      "(1, 4) 0.0020018225299622827\n",
      "(1, 5) -0.018004043167429984\n",
      "(1, 6) 0.0020036126091582673\n",
      "(1, 7) 0.001996612808419229\n",
      "(1, 8) 0.0020007636214458557\n",
      "(1, 9) 0.0019996185818271783\n",
      "(2, 0) 0.0020025886504626556\n",
      "(2, 1) 0.002000081233966\n",
      "(2, 2) 0.0020005220369156973\n",
      "(2, 3) -0.017998474022284938\n",
      "(2, 4) 0.0019961636343879263\n",
      "(2, 5) 0.00200207759259996\n",
      "(2, 6) 0.001996868603804103\n",
      "(2, 7) 0.0020010529677705335\n",
      "(2, 8) 0.0019975593401611036\n",
      "(2, 9) 0.00200156000662588\n",
      "(3, 0) 0.00200244953951767\n",
      "(3, 1) 0.0020031847958179583\n",
      "(3, 2) 0.0019974577547543504\n",
      "(3, 3) 0.002001275567486971\n",
      "(3, 4) 0.001998349929976939\n",
      "(3, 5) 0.002002066490369714\n",
      "(3, 6) 0.0019967263398257273\n",
      "(3, 7) -0.01800194882051187\n",
      "(3, 8) 0.001999665633078962\n",
      "(3, 9) 0.0020007727696835786\n",
      "(4, 0) 0.002000377175015444\n",
      "(4, 1) 0.001999724341672504\n",
      "(4, 2) -0.018003222357343418\n",
      "(4, 3) 0.0020012299817295798\n",
      "(4, 4) 0.0020017357771351385\n",
      "(4, 5) 0.0019995626487911977\n",
      "(4, 6) 0.002000342136376787\n",
      "(4, 7) 0.001999639032135292\n",
      "(4, 8) 0.0020001385658829918\n",
      "(4, 9) 0.0020004727208089434\n",
      "(5, 0) 0.0020000878286907664\n",
      "(5, 1) 0.001999811449771016\n",
      "(5, 2) 0.0019991467814506336\n",
      "(5, 3) 0.002002006893597752\n",
      "(5, 4) 0.0019980633370053624\n",
      "(5, 5) 0.0019973217302293733\n",
      "(5, 6) 0.00200065650712844\n",
      "(5, 7) -0.017998843149236166\n",
      "(5, 8) 0.0020003847689409326\n",
      "(5, 9) 0.00200136389683081\n",
      "(6, 0) -0.018002191604082896\n",
      "(6, 1) 0.0020000419764798494\n",
      "(6, 2) 0.0020004997658418233\n",
      "(6, 3) 0.0019999840450424244\n",
      "(6, 4) 0.0019979224497035375\n",
      "(6, 5) 0.0020006490908386354\n",
      "(6, 6) 0.002001716636890194\n",
      "(6, 7) 0.001998060161767512\n",
      "(6, 8) 0.002005131904958546\n",
      "(6, 9) 0.0019981855281514527\n",
      "(7, 0) 0.0019958847019552195\n",
      "(7, 1) 0.0019978269039100383\n",
      "(7, 2) 0.002002428400871281\n",
      "(7, 3) 0.0019962506092596755\n",
      "(7, 4) -0.017999105517141345\n",
      "(7, 5) 0.0020009264245501868\n",
      "(7, 6) 0.0020029852665359726\n",
      "(7, 7) 0.002000676024849213\n",
      "(7, 8) 0.0019992936639567915\n",
      "(7, 9) 0.002002833476844046\n",
      "(8, 0) 0.0020010744616882903\n",
      "(8, 1) 0.0019994391475819384\n",
      "(8, 2) 0.001999603860269872\n",
      "(8, 3) 0.00199868810391024\n",
      "(8, 4) 0.002000547083547133\n",
      "(8, 5) 0.0019975407106187504\n",
      "(8, 6) 0.0020039198744825626\n",
      "(8, 7) 0.002000119603273731\n",
      "(8, 8) -0.01799845974481684\n",
      "(8, 9) 0.001997526899444324\n",
      "(9, 0) 0.0020048559257190846\n",
      "(9, 1) 0.0019985171739733687\n",
      "(9, 2) 0.0020011035495315355\n",
      "(9, 3) -0.018000714652188776\n",
      "(9, 4) 0.0019987464794368748\n",
      "(9, 5) 0.0019989869981529296\n",
      "(9, 6) 0.0020005159084846014\n",
      "(9, 7) 0.0020020900048933754\n",
      "(9, 8) 0.001999993171075687\n",
      "(9, 9) 0.0019959054409213195\n",
      "(10, 0) 0.0019977320020458933\n",
      "(10, 1) 0.002003077081980109\n",
      "(10, 2) 0.0020013735557711243\n",
      "(10, 3) 0.00199851677429308\n",
      "(10, 4) 0.0019993974031962125\n",
      "(10, 5) 0.0019955847418984263\n",
      "(10, 6) 0.002003282340012902\n",
      "(10, 7) 0.0020004399026163355\n",
      "(10, 8) 0.0020010198831243997\n",
      "(10, 9) -0.018000423662734022\n",
      "(11, 0) 0.002001096266468494\n",
      "(11, 1) 0.00199816376778017\n",
      "(11, 2) 0.001998379550727236\n",
      "(11, 3) 0.0020011662549279663\n",
      "(11, 4) 0.0020001705181016405\n",
      "(11, 5) 0.0020006349465973017\n",
      "(11, 6) 0.00200114749215885\n",
      "(11, 7) 0.0020008178003294574\n",
      "(11, 8) -0.018001593682370753\n",
      "(11, 9) 0.0020000171074840978\n",
      "(12, 0) 0.0019991799105056884\n",
      "(12, 1) 0.00199674718981413\n",
      "(12, 2) 0.001999101839622597\n",
      "(12, 3) -0.017998017631803975\n",
      "(12, 4) 0.0020006904355440724\n",
      "(12, 5) 0.0020017398405514086\n",
      "(12, 6) 0.00199850551663161\n",
      "(12, 7) 0.002000952625813568\n",
      "(12, 8) 0.0020005337164619164\n",
      "(12, 9) 0.0020005665568589848\n",
      "(13, 0) 0.0020007664636167988\n",
      "(13, 1) 0.002001811938434628\n",
      "(13, 2) -0.01800292355191857\n",
      "(13, 3) 0.0020009034651380375\n",
      "(13, 4) 0.0020010016976712564\n",
      "(13, 5) 0.0020017503432612216\n",
      "(13, 6) 0.002000105747690384\n",
      "(13, 7) 0.0019992981714622715\n",
      "(13, 8) 0.001999722210044297\n",
      "(13, 9) 0.001997563514599676\n",
      "(14, 0) 0.0020009093271156075\n",
      "(14, 1) 0.0019998212863470144\n",
      "(14, 2) -0.017999054224837607\n",
      "(14, 3) 0.0020028197100785405\n",
      "(14, 4) 0.0019981049481643254\n",
      "(14, 5) 0.001997792087315986\n",
      "(14, 6) 0.002001030452447594\n",
      "(14, 7) 0.001999986642964302\n",
      "(14, 8) 0.0019987577370983445\n",
      "(14, 9) 0.0019998320333058928\n",
      "(15, 0) 0.0020027833613767143\n",
      "(15, 1) 0.0020027905334174534\n",
      "(15, 2) 0.0019998476208371585\n",
      "(15, 3) -0.017998582890754733\n",
      "(15, 4) 0.0020002632661331177\n",
      "(15, 5) 0.0019981043708483526\n",
      "(15, 6) 0.0020002690392928457\n",
      "(15, 7) 0.0019977957288475068\n",
      "(15, 8) 0.001999920407058653\n",
      "(15, 9) 0.0019968085407384706\n",
      "(16, 0) 0.0020004480960622573\n",
      "(16, 1) 0.0019996344136075095\n",
      "(16, 2) 0.002001408794249926\n",
      "(16, 3) 0.002000211840602617\n",
      "(16, 4) 0.0019976531095977634\n",
      "(16, 5) 0.0020008854351161176\n",
      "(16, 6) -0.01800281981267915\n",
      "(16, 7) 0.0019978588783331475\n",
      "(16, 8) 0.002004640720087991\n",
      "(16, 9) 0.0020000785472262805\n",
      "(17, 0) 0.0020003660061718165\n",
      "(17, 1) 0.002000059229345652\n",
      "(17, 2) 0.001998954646253992\n",
      "(17, 3) 0.0019997210110034302\n",
      "(17, 4) -0.01800035953625212\n",
      "(17, 5) 0.002000516019506904\n",
      "(17, 6) 0.001998168897010544\n",
      "(17, 7) 0.0019997308475794284\n",
      "(17, 8) 0.00200281742301911\n",
      "(17, 9) 0.002000025456361243\n",
      "(18, 0) 0.001999759180471017\n",
      "(18, 1) 0.001998915699630288\n",
      "(18, 2) 0.0020008687817707482\n",
      "(18, 3) 0.0020000480605020243\n",
      "(18, 4) 0.0019989194521841114\n",
      "(18, 5) 0.002000591625694881\n",
      "(18, 6) 0.0019976106990782228\n",
      "(18, 7) 0.002002475651963209\n",
      "(18, 8) 0.00199888106067192\n",
      "(18, 9) -0.017998070234170882\n",
      "(19, 0) 0.002001575705179448\n",
      "(19, 1) 0.0020025730851358503\n",
      "(19, 2) 0.001999951337872119\n",
      "(19, 3) 0.0019962569153264553\n",
      "(19, 4) 0.002001398469175797\n",
      "(19, 5) 0.001997230247852144\n",
      "(19, 6) 0.0020009807366605514\n",
      "(19, 7) -0.017998642820593602\n",
      "(19, 8) 0.001998841758776848\n",
      "(19, 9) 0.0019998345868188494\n",
      "(20, 0) 0.0020006613477008273\n",
      "(20, 1) 0.001997928289476647\n",
      "(20, 2) 0.001996878751242548\n",
      "(20, 3) 0.0020003006362401266\n",
      "(20, 4) 0.0020016436286240946\n",
      "(20, 5) 0.0020015372692583355\n",
      "(20, 6) -0.01800269502361118\n",
      "(20, 7) 0.00199910603626563\n",
      "(20, 8) 0.002002942944834274\n",
      "(20, 9) 0.002001696119968699\n",
      "(21, 0) 0.0020008766865586836\n",
      "(21, 1) 0.0019981017063130935\n",
      "(21, 2) 0.0020011794665819593\n",
      "(21, 3) 0.0020023229740928628\n",
      "(21, 4) 0.0019987844268598565\n",
      "(21, 5) 0.0020009955692401604\n",
      "(21, 6) 0.001999236465266563\n",
      "(21, 7) -0.017998212942238467\n",
      "(21, 8) 0.0019982428600684443\n",
      "(21, 9) 0.001998472787256844\n",
      "(22, 0) 0.001996906617840466\n",
      "(22, 1) 0.0020010938905912212\n",
      "(22, 2) 0.001997769594197507\n",
      "(22, 3) -0.018000916512939114\n",
      "(22, 4) 0.00199891263541474\n",
      "(22, 5) 0.002001419763253409\n",
      "(22, 6) 0.0020019426782980076\n",
      "(22, 7) 0.0020004938594553323\n",
      "(22, 8) 0.0020021566404793134\n",
      "(22, 9) 0.002000220855613577\n",
      "(23, 0) 0.0019985916921427815\n",
      "(23, 1) 0.0019991329924806678\n",
      "(23, 2) 0.002002694121649995\n",
      "(23, 3) 0.0019999017775162997\n",
      "(23, 4) 0.0020003174894256404\n",
      "(23, 5) 0.0020022148161658038\n",
      "(23, 6) 0.0019992296040882707\n",
      "(23, 7) 0.0019996144740019872\n",
      "(23, 8) -0.01800029871823483\n",
      "(23, 9) 0.001998601728558924\n",
      "(24, 0) 0.0020006962975216425\n",
      "(24, 1) 0.002000905463539482\n",
      "(24, 2) 0.0019968396047786996\n",
      "(24, 3) 0.0020003774192645096\n",
      "(24, 4) 0.002000040066896247\n",
      "(24, 5) 0.0020010812784576615\n",
      "(24, 6) 0.0019976884590988675\n",
      "(24, 7) 0.002000266219326363\n",
      "(24, 8) -0.017999527646139768\n",
      "(24, 9) 0.0020016328594607558\n",
      "(25, 0) 0.0020014938595380727\n",
      "(25, 1) -0.01800270355012401\n",
      "(25, 2) 0.0019992810962321528\n",
      "(25, 3) 0.0020005852530147195\n",
      "(25, 4) 0.0020034399472734776\n",
      "(25, 5) 0.002000590604289698\n",
      "(25, 6) 0.002001081833569174\n",
      "(25, 7) 0.001997751097881917\n",
      "(25, 8) 0.001999431509247529\n",
      "(25, 9) 0.0019990483046683494\n",
      "(26, 0) 0.0019993220190528405\n",
      "(26, 1) 0.002000097376608778\n",
      "(26, 2) 0.0019993444233534774\n",
      "(26, 3) 0.0019991380773021206\n",
      "(26, 4) 0.0020021290625393817\n",
      "(26, 5) -0.01800240687632737\n",
      "(26, 6) 0.002001480448043935\n",
      "(26, 7) 0.002000793020151548\n",
      "(26, 8) 0.0019987357324779964\n",
      "(26, 9) 0.002001366650183911\n",
      "(27, 0) 0.002003643517767273\n",
      "(27, 1) 0.0019999389255787037\n",
      "(27, 2) 0.001999034493493923\n",
      "(27, 3) 0.0020028576352970617\n",
      "(27, 4) 0.0020009768064710443\n",
      "(27, 5) 0.001997542087295301\n",
      "(27, 6) 0.0020016092561192522\n",
      "(27, 7) -0.017998127987972623\n",
      "(27, 8) 0.0019967624664829486\n",
      "(27, 9) 0.0019957628438760366\n",
      "(28, 0) -0.018000057711020645\n",
      "(28, 1) 0.001998286625060075\n",
      "(28, 2) 0.0020010152423921568\n",
      "(28, 3) 0.0019974303100411817\n",
      "(28, 4) 0.0019987391519649123\n",
      "(28, 5) 0.002004831189950096\n",
      "(28, 6) 0.002000007381930402\n",
      "(28, 7) 0.001998041820883145\n",
      "(28, 8) 0.002000740906282772\n",
      "(28, 9) 0.002000965082515904\n",
      "(29, 0) 0.002000046639416553\n",
      "(29, 1) 0.0020002850265044003\n",
      "(29, 2) 0.0020008065648724482\n",
      "(29, 3) 0.0019995174183051745\n",
      "(29, 4) 0.0020031068581616296\n",
      "(29, 5) -0.017998894108472996\n",
      "(29, 6) 0.00199776837295218\n",
      "(29, 7) 0.001999263621321745\n",
      "(29, 8) 0.0019973156462071984\n",
      "(29, 9) 0.0020007839385272064\n",
      "(30, 0) 0.0020008001699878264\n",
      "(30, 1) 0.002001693832909268\n",
      "(30, 2) 0.002000966614623678\n",
      "(30, 3) 0.0019990952893067515\n",
      "(30, 4) 0.0020017714374986895\n",
      "(30, 5) 0.001999118803830413\n",
      "(30, 6) -0.018001853785420963\n",
      "(30, 7) 0.0020015913149151743\n",
      "(30, 8) 0.0020012596024798768\n",
      "(30, 9) 0.0019955567420737452\n",
      "(31, 0) 0.002002205090612108\n",
      "(31, 1) 0.002000737087115567\n",
      "(31, 2) 0.0020002870693147656\n",
      "(31, 3) 0.0019964985220610743\n",
      "(31, 4) 0.0019978822374255856\n",
      "(31, 5) 0.00200128273952771\n",
      "(31, 6) 0.0020018026347656814\n",
      "(31, 7) 0.0019976620801998024\n",
      "(31, 8) -0.0179990836235433\n",
      "(31, 9) 0.002000726162521005\n",
      "(32, 0) 0.001999481469283637\n",
      "(32, 1) 0.0020000439304723727\n",
      "(32, 2) -0.01799840325666935\n",
      "(32, 3) 0.0019994057076644367\n",
      "(32, 4) 0.0020030306524532193\n",
      "(32, 5) 0.0019983806387458003\n",
      "(32, 6) 0.0019990329835906095\n",
      "(32, 7) 0.0019996319267079343\n",
      "(32, 8) 0.001998789000978718\n",
      "(32, 9) 0.0020006070355904626\n",
      "(33, 0) 0.0019965178177372422\n",
      "(33, 1) 0.002004187615867181\n",
      "(33, 2) 0.001999424936727223\n",
      "(33, 3) 0.001998598575525534\n",
      "(33, 4) 0.002000164456283926\n",
      "(33, 5) 0.0020018627866491556\n",
      "(33, 6) 0.001998582299655993\n",
      "(33, 7) 0.0020012896673193836\n",
      "(33, 8) -0.017999238877131063\n",
      "(33, 9) 0.0019986106769565026\n",
      "(34, 0) 0.0019975875620303896\n",
      "(34, 1) 0.002000849796957027\n",
      "(34, 2) 0.0020041827086814124\n",
      "(34, 3) 0.0020008053214226607\n",
      "(34, 4) 0.0019970519460343894\n",
      "(34, 5) 0.0019992914879196633\n",
      "(34, 6) 0.001999730780966047\n",
      "(34, 7) 0.002001550858388157\n",
      "(34, 8) 0.002000322751882777\n",
      "(34, 9) -0.018001373236486984\n",
      "(35, 0) -0.018001835311309833\n",
      "(35, 1) 0.0020001970302274685\n",
      "(35, 2) 0.0020030035186024975\n",
      "(35, 3) 0.0020009335299775444\n",
      "(35, 4) 0.002001776366888919\n",
      "(35, 5) 0.001999426957333128\n",
      "(35, 6) 0.0019982156818088015\n",
      "(35, 7) 0.002000718946071345\n",
      "(35, 8) 0.0019983615429097767\n",
      "(35, 9) 0.0019992017374903526\n",
      "(36, 0) -0.017998259238538594\n",
      "(36, 1) 0.0019955550323302873\n",
      "(36, 2) 0.0019989865984726407\n",
      "(36, 3) 0.0020009427004197278\n",
      "(36, 4) 0.0019981540866353953\n",
      "(36, 5) 0.0020006752921020166\n",
      "(36, 6) 0.002000811694102822\n",
      "(36, 7) 0.0020031842185019855\n",
      "(36, 8) 0.0020011734269687054\n",
      "(36, 9) 0.0019987761445960928\n",
      "(37, 0) 0.0019998528388853742\n",
      "(37, 1) 0.002000360388443312\n",
      "(37, 2) 0.001996324394681892\n",
      "(37, 3) 0.0020004699230469214\n",
      "(37, 4) 0.0019951272411944387\n",
      "(37, 5) -0.018000406210028075\n",
      "(37, 6) 0.0020022354885185223\n",
      "(37, 7) 0.0020022209890058207\n",
      "(37, 8) 0.002003419719009969\n",
      "(37, 9) 0.0020003951828329036\n",
      "(38, 0) 0.001998418319715256\n",
      "(38, 1) 0.0020007755008322192\n",
      "(38, 2) 0.001998121113011564\n",
      "(38, 3) 0.0020019227831014064\n",
      "(38, 4) 0.002000016086078915\n",
      "(38, 5) 0.001999754539738774\n",
      "(38, 6) 0.0020022600688562875\n",
      "(38, 7) 0.0020004174539067776\n",
      "(38, 8) 0.002000549170766419\n",
      "(38, 9) -0.01800223508041654\n",
      "(39, 0) 0.0020010245682655636\n",
      "(39, 1) 0.002002471988227228\n",
      "(39, 2) 0.0019990830768534806\n",
      "(39, 3) 0.001998501364397498\n",
      "(39, 4) 0.0019986357013834777\n",
      "(39, 5) 0.0019977796306136497\n",
      "(39, 6) 0.0020003266376633633\n",
      "(39, 7) -0.017999833734627657\n",
      "(39, 8) 0.0020009074397364657\n",
      "(39, 9) 0.002001103349691391\n",
      "(40, 0) 0.0020003807499335835\n",
      "(40, 1) 0.0020026636127212782\n",
      "(40, 2) 0.0020014121471234603\n",
      "(40, 3) 0.001996833365325301\n",
      "(40, 4) 0.0019997143496652825\n",
      "(40, 5) 0.001998560428262408\n",
      "(40, 6) -0.01800029236775913\n",
      "(40, 7) 0.0020015974655507307\n",
      "(40, 8) 0.0019994237820952776\n",
      "(40, 9) 0.001999706444877347\n",
      "(41, 0) 0.001998700493999195\n",
      "(41, 1) 0.001999059295876293\n",
      "(41, 2) 0.0020006097445346427\n",
      "(41, 3) 0.002003400467742722\n",
      "(41, 4) 0.0020010756385246964\n",
      "(41, 5) 0.0019989984112456227\n",
      "(41, 6) -0.018002829627050687\n",
      "(41, 7) 0.001999500676141963\n",
      "(41, 8) 0.001999319243495279\n",
      "(41, 9) 0.0020021656110813524\n",
      "(42, 0) 0.001999228627092009\n",
      "(42, 1) 0.001999559740006873\n",
      "(42, 2) -0.018000716983657128\n",
      "(42, 3) 0.002001501631099245\n",
      "(42, 4) 0.001998690946081183\n",
      "(42, 5) 0.002000717880257241\n",
      "(42, 6) 0.002002064425354888\n",
      "(42, 7) 0.0020022912661232795\n",
      "(42, 8) 0.001996185527985972\n",
      "(42, 9) 0.0020004770062698185\n",
      "(43, 0) 0.0019994503830389476\n",
      "(43, 1) 0.001999453780321403\n",
      "(43, 2) -0.01799980406946844\n",
      "(43, 3) 0.0019973545706264417\n",
      "(43, 4) 0.00200075884748685\n",
      "(43, 5) 0.002001619292535395\n",
      "(43, 6) 0.0019991998057022897\n",
      "(43, 7) 0.0019982829835285543\n",
      "(43, 8) 0.0020010878731824278\n",
      "(43, 9) 0.002002596555250591\n",
      "(44, 0) 0.0019998399602982886\n",
      "(44, 1) 0.00200004877104476\n",
      "(44, 2) -0.01799901607757448\n",
      "(44, 3) 0.001997593934710551\n",
      "(44, 4) 0.001999488175030706\n",
      "(44, 5) 0.0019985247012854757\n",
      "(44, 6) 0.0020012463908258837\n",
      "(44, 7) 0.0019991801325502934\n",
      "(44, 8) 0.0020021479363308003\n",
      "(44, 9) 0.002000946008884341\n",
      "(45, 0) 0.0020006609036116174\n",
      "(45, 1) 0.0019999525813219066\n",
      "(45, 2) 0.0019990689548166074\n",
      "(45, 3) 0.001999179177758492\n",
      "(45, 4) 0.001999794219109674\n",
      "(45, 5) -0.01800226796522253\n",
      "(45, 6) 0.002000259180512387\n",
      "(45, 7) 0.0020021689417504263\n",
      "(45, 8) 0.001999697052390559\n",
      "(45, 9) 0.0020014869539508595\n",
      "(46, 0) 0.001999834120525179\n",
      "(46, 1) 0.0019972064224660357\n",
      "(46, 2) 0.0020028860792109526\n",
      "(46, 3) 0.002000902266097171\n",
      "(46, 4) 0.002000505383570328\n",
      "(46, 5) 0.002000031140703129\n",
      "(46, 6) 0.0019989193189573484\n",
      "(46, 7) -0.018000218804381518\n",
      "(46, 8) 0.002000655840994625\n",
      "(46, 9) 0.0019992781430389073\n",
      "(47, 0) 0.002001744192625665\n",
      "(47, 1) 0.002000219501141487\n",
      "(47, 2) 0.0019989047972401863\n",
      "(47, 3) 0.002000114185385371\n",
      "(47, 4) 0.0019985744836859\n",
      "(47, 5) -0.01799727116225114\n",
      "(47, 6) 0.001999537913022209\n",
      "(47, 7) 0.0019998397382536837\n",
      "(47, 8) 0.001998096998967469\n",
      "(47, 9) 0.0020002393519291672\n",
      "(48, 0) 0.002001994459099876\n",
      "(48, 1) 0.0019983265486800406\n",
      "(48, 2) 0.0020018436686086716\n",
      "(48, 3) 0.001998530940738874\n",
      "(48, 4) 0.0019965966435719906\n",
      "(48, 5) 0.002001436794074607\n",
      "(48, 6) 0.0020031146963361834\n",
      "(48, 7) 0.002003275412221228\n",
      "(48, 8) -0.018003695090307303\n",
      "(48, 9) 0.0019985759047713714\n",
      "(49, 0) 0.0019962246522453597\n",
      "(49, 1) 0.001997739018655409\n",
      "(49, 2) 0.0020028379621450654\n",
      "(49, 3) 0.0020004096379366842\n",
      "(49, 4) 0.0020009923717978495\n",
      "(49, 5) 0.002002306942472387\n",
      "(49, 6) -0.01799861155671323\n",
      "(49, 7) 0.002001618892855106\n",
      "(49, 8) 0.0019980950005660247\n",
      "(49, 9) 0.0019983871446527246\n",
      "\n",
      "Testing softmax_loss:\n",
      "loss:  2.302763485526789\n",
      "dx error:  8.063595524601996e-09\n"
     ],
     "output_type": "stream"
    }
   ],
   "source": [
    "num_classes, num_inputs = 10, 50\n",
    "x = 0.001 * np.random.randn(num_inputs, num_classes)\n",
    "y = np.random.randint(num_classes, size=num_inputs)\n",
    "\n",
    "dx_num = eval_numerical_gradient(lambda x: svm_loss(x, y)[0], x, verbose=False)\n",
    "loss, dx = svm_loss(x, y)\n",
    "\n",
    "# Test svm_loss function. Loss should be around 9 and dx error should be 1e-9\n",
    "print('Testing svm_loss:')\n",
    "print('loss: ', loss)\n",
    "print('dx error: ', rel_error(dx_num, dx))\n",
    "\n",
    "dx_num = eval_numerical_gradient(lambda x: softmax_loss(x, y)[0], x, verbose=True)\n",
    "loss, dx = softmax_loss(x, y)\n",
    "\n",
    "# Test softmax_loss function. Loss should be 2.3 and dx error should be 1e-8\n",
    "print('\\nTesting softmax_loss:')\n",
    "print('loss: ', loss)\n",
    "print('dx error: ', rel_error(dx_num, dx))"
   ]
  },
  {
   "cell_type": "markdown",
   "metadata": {},
   "source": [
    "# Réseau à deux couches\n",
    "Au tp1, vous avez implanté un réseau à deux couches à l'intérieur d'une seule classe monolitique. Maintenant que les couches ont un design plus modulaire, vous devez implanter un réseau à deux couches de façon modulaire.\n",
    "\n",
    "Avec le fichier `ift725/classifiers/fc_net.py`, vous devez compléter l'implantation de la classe `TwoLayerNeuralNet`. Le design de cette classe est le prototype pour les autres réseaux utilisés dans ce devoir.  Par conséquent, soyez attentifs et assurez-vous de bien comprendre cet API. Vous pouvez exécuter la cellule que voici pour tester votre code."
   ]
  },
  {
   "cell_type": "code",
   "execution_count": 64,
   "metadata": {
    "pycharm": {
     "is_executing": false
    }
   },
   "outputs": [
    {
     "name": "stdout",
     "text": [
      "Testing initialization ... \n",
      "Testing test-time forward pass ... \n",
      "score difference =  5.115852275139332e-08\n"
     ],
     "output_type": "stream"
    }
   ],
   "source": [
    "# First, lets try a forward pass for a minibatch of 3 elements of size 5, with an hidden layer of size 50 and 7 classes\n",
    "\n",
    "N, D, H, C = 3, 5, 50, 7\n",
    "X = np.random.randn(N, D)\n",
    "y = np.random.randint(C, size=N)\n",
    "\n",
    "std = 1e-2\n",
    "model = TwoLayerNeuralNet(input_dim=D, hidden_dim=H, num_classes=C, weight_scale=std)\n",
    "\n",
    "print('Testing initialization ... ')\n",
    "W1_std = abs(model.params['W1'].std() - std)\n",
    "b1 = model.params['b1']\n",
    "W2_std = abs(model.params['W2'].std() - std)\n",
    "b2 = model.params['b2']\n",
    "assert W1_std < std / 10, 'First layer weights do not seem right'\n",
    "assert np.all(b1 == 0), 'First layer biases do not seem right'\n",
    "assert W2_std < std / 10, 'Second layer weights do not seem right'\n",
    "assert np.all(b2 == 0), 'Second layer biases do not seem right'\n",
    "\n",
    "\n",
    "print('Testing test-time forward pass ... ')\n",
    "model.params['W1'] = np.linspace(-0.7, 0.3, num=D*H).reshape(D, H)\n",
    "model.params['b1'] = np.linspace(-0.1, 0.9, num=H)\n",
    "model.params['W2'] = np.linspace(-0.3, 0.4, num=H*C).reshape(H, C)\n",
    "model.params['b2'] = np.linspace(-0.9, 0.1, num=C)\n",
    "X = np.linspace(-5.5, 4.5, num=N*D).reshape(D, N).T\n",
    "scores = model.loss(X)\n",
    "\n",
    "correct_scores = np.asarray(\n",
    "  [[11.53165108,  12.2917344,   13.05181771,  13.81190102,  14.57198434, 15.33206765,  16.09215096],\n",
    "   [12.05769098,  12.74614105,  13.43459113,  14.1230412,   14.81149128, 15.49994135,  16.18839143],\n",
    "   [12.58373087,  13.20054771,  13.81736455,  14.43418138,  15.05099822, 15.66781506,  16.2846319 ]])\n",
    "scores_diff = np.abs(scores - correct_scores).sum()\n",
    "assert scores_diff < 1e-6, 'Problem with test-time forward pass'\n",
    "print('score difference = ', scores_diff)\n"
   ]
  },
  {
   "cell_type": "code",
   "execution_count": 65,
   "metadata": {
    "pycharm": {
     "is_executing": false
    }
   },
   "outputs": [
    {
     "name": "stdout",
     "text": [
      "loss difference =  4.6092019090338e-12\n",
      "loss =  26.594842695238583   correct_loss =  26.5948426952\n",
      "loss difference =  3.858247055177344e-11\n"
     ],
     "output_type": "stream"
    }
   ],
   "source": [
    "# Now lets compute the loss with and without regularization\n",
    "y = np.asarray([0, 5, 1])\n",
    "\n",
    "model.reg = 0.0  # NO REG\n",
    "loss, grads = model.loss(X, y)\n",
    "correct_loss = 3.4702243556\n",
    "assert abs(loss - correct_loss) < 1e-10, 'Problem with training-time loss'\n",
    "print('loss difference = ', abs(loss - correct_loss))\n",
    "\n",
    "model.reg = 1.0  # WITH REG\n",
    "loss, grads = model.loss(X, y)\n",
    "# correct_loss = 63.9539735065\n",
    "correct_loss = 26.5948426952 ########################## TODO: check avec le prof!!\n",
    "print('loss = ', loss, '  correct_loss = ', correct_loss)\n",
    "print('loss difference = ', abs(loss - correct_loss))\n",
    "assert abs(loss - correct_loss) < 1e-10, 'Problem with regularization loss'\n"
   ]
  },
  {
   "cell_type": "code",
   "execution_count": 66,
   "metadata": {
    "pycharm": {
     "is_executing": false
    }
   },
   "outputs": [
    {
     "name": "stdout",
     "text": [
      "Running numeric gradient check with reg =  0.0\n",
      "W1 relative error: 1.22e-08\n",
      "W2 relative error: 3.42e-10\n",
      "b1 relative error: 6.55e-09\n",
      "b2 relative error: 2.53e-10\n",
      "Running numeric gradient check with reg =  0.3\n",
      "W1 relative error: 2.88e-08\n",
      "W2 relative error: 7.20e-10\n",
      "b1 relative error: 8.37e-09\n",
      "b2 relative error: 5.96e-10\n",
      "Running numeric gradient check with reg =  0.6\n",
      "W1 relative error: 9.09e-08\n",
      "W2 relative error: 2.05e-08\n",
      "b1 relative error: 1.56e-08\n",
      "b2 relative error: 9.09e-10\n",
      "Running numeric gradient check with reg =  0.9\n",
      "W1 relative error: 1.70e-08\n",
      "W2 relative error: 1.31e-08\n",
      "b1 relative error: 1.56e-08\n",
      "b2 relative error: 9.09e-10\n"
     ],
     "output_type": "stream"
    }
   ],
   "source": [
    "# Now lets compute the loss with different regularization terms\n",
    "\n",
    "for reg in [0.0, 0.3, 0.6, 0.9]:\n",
    "  print('Running numeric gradient check with reg = ', reg)\n",
    "  model.reg = reg\n",
    "  loss, grads = model.loss(X, y)\n",
    "\n",
    "  for name in sorted(grads):\n",
    "    f = lambda _: model.loss(X, y)[0]\n",
    "    grad_num = eval_numerical_gradient(f, model.params[name], verbose=False)\n",
    "    print('%s relative error: %.2e' % (name, rel_error(grad_num, grads[name])))"
   ]
  },
  {
   "cell_type": "markdown",
   "metadata": {},
   "source": [
    "# Solver\n",
    "Au tp1, l'entraînement des modèles était couplé aux modèles. Suivant un design plus modulaire, dans ce tp nous avons séparé le code d'entraînement et le code des modèles dans différentes classes.\n",
    "\n",
    "Familiarisez-vous avec le code `ift725/solver.py` et assurez-vous de bien en comprendre le fonctionnement. Après, utilisez un `Solver` pour entraîner le `TwoLayerNeuralNet` et atteindre environ `50%` de justesse en validation sur le base de donnée CIFAR10 stockée dans la variable `data`."
   ]
  },
  {
   "cell_type": "code",
   "execution_count": 67,
   "metadata": {
    "pycharm": {
     "is_executing": false
    }
   },
   "outputs": [
    {
     "name": "stdout",
     "text": [
      "X_train:  (49000, 3, 32, 32)\n",
      "y_train:  (49000,)\n",
      "X_val:  (1000, 3, 32, 32)\n",
      "y_val:  (1000,)\n",
      "X_test:  (1000, 3, 32, 32)\n",
      "y_test:  (1000,)\n"
     ],
     "output_type": "stream"
    }
   ],
   "source": [
    "# Load the (preprocessed) CIFAR10 data.\n",
    "\n",
    "data = get_CIFAR10_data()\n",
    "for k, v in data.items():\n",
    "  print('%s: ' % k, v.shape)"
   ]
  },
  {
   "cell_type": "code",
   "execution_count": 69,
   "metadata": {
    "pycharm": {
     "is_executing": false
    }
   },
   "outputs": [
    {
     "traceback": [
      "\u001b[1;31m---------------------------------------------------------------------------\u001b[0m",
      "\u001b[1;31mValueError\u001b[0m                                Traceback (most recent call last)",
      "\u001b[1;32m<ipython-input-69-c5cb58c6bc80>\u001b[0m in \u001b[0;36m<module>\u001b[1;34m\u001b[0m\n\u001b[0;32m     12\u001b[0m                   \u001b[0mnum_epochs\u001b[0m\u001b[1;33m=\u001b[0m\u001b[1;36m40\u001b[0m\u001b[1;33m,\u001b[0m \u001b[0mbatch_size\u001b[0m\u001b[1;33m=\u001b[0m\u001b[1;36m200\u001b[0m\u001b[1;33m,\u001b[0m\u001b[1;33m\u001b[0m\u001b[1;33m\u001b[0m\u001b[0m\n\u001b[0;32m     13\u001b[0m                   print_every=100)\n\u001b[1;32m---> 14\u001b[1;33m \u001b[0msolver\u001b[0m\u001b[1;33m.\u001b[0m\u001b[0mtrain\u001b[0m\u001b[1;33m(\u001b[0m\u001b[1;33m)\u001b[0m\u001b[1;33m\u001b[0m\u001b[1;33m\u001b[0m\u001b[0m\n\u001b[0m\u001b[0;32m     15\u001b[0m \u001b[1;33m\u001b[0m\u001b[0m\n\u001b[0;32m     16\u001b[0m \u001b[1;31m##############################################################################\u001b[0m\u001b[1;33m\u001b[0m\u001b[1;33m\u001b[0m\u001b[1;33m\u001b[0m\u001b[0m\n",
      "\u001b[1;32m~\\OneDrive\\Documents\\SemestreHiver2020\\IFT725\\TP2_IFT725\\prog\\ift725\\solver.py\u001b[0m in \u001b[0;36mtrain\u001b[1;34m(self)\u001b[0m\n\u001b[0;32m    227\u001b[0m \u001b[1;33m\u001b[0m\u001b[0m\n\u001b[0;32m    228\u001b[0m         \u001b[1;32mfor\u001b[0m \u001b[0mt\u001b[0m \u001b[1;32min\u001b[0m \u001b[0mrange\u001b[0m\u001b[1;33m(\u001b[0m\u001b[0mnp\u001b[0m\u001b[1;33m.\u001b[0m\u001b[0muint32\u001b[0m\u001b[1;33m(\u001b[0m\u001b[0mnum_iterations\u001b[0m\u001b[1;33m)\u001b[0m\u001b[1;33m)\u001b[0m\u001b[1;33m:\u001b[0m\u001b[1;33m\u001b[0m\u001b[1;33m\u001b[0m\u001b[0m\n\u001b[1;32m--> 229\u001b[1;33m             \u001b[0mself\u001b[0m\u001b[1;33m.\u001b[0m\u001b[0m_step\u001b[0m\u001b[1;33m(\u001b[0m\u001b[1;33m)\u001b[0m\u001b[1;33m\u001b[0m\u001b[1;33m\u001b[0m\u001b[0m\n\u001b[0m\u001b[0;32m    230\u001b[0m \u001b[1;33m\u001b[0m\u001b[0m\n\u001b[0;32m    231\u001b[0m             \u001b[1;31m# Maybe print training loss\u001b[0m\u001b[1;33m\u001b[0m\u001b[1;33m\u001b[0m\u001b[1;33m\u001b[0m\u001b[0m\n",
      "\u001b[1;32m~\\OneDrive\\Documents\\SemestreHiver2020\\IFT725\\TP2_IFT725\\prog\\ift725\\solver.py\u001b[0m in \u001b[0;36m_step\u001b[1;34m(self)\u001b[0m\n\u001b[0;32m    167\u001b[0m \u001b[1;33m\u001b[0m\u001b[0m\n\u001b[0;32m    168\u001b[0m         \u001b[1;31m# Compute loss and gradient\u001b[0m\u001b[1;33m\u001b[0m\u001b[1;33m\u001b[0m\u001b[1;33m\u001b[0m\u001b[0m\n\u001b[1;32m--> 169\u001b[1;33m         \u001b[0mloss\u001b[0m\u001b[1;33m,\u001b[0m \u001b[0mgrads\u001b[0m \u001b[1;33m=\u001b[0m \u001b[0mself\u001b[0m\u001b[1;33m.\u001b[0m\u001b[0mmodel\u001b[0m\u001b[1;33m.\u001b[0m\u001b[0mloss\u001b[0m\u001b[1;33m(\u001b[0m\u001b[0mX_batch\u001b[0m\u001b[1;33m,\u001b[0m \u001b[0my_batch\u001b[0m\u001b[1;33m)\u001b[0m\u001b[1;33m\u001b[0m\u001b[1;33m\u001b[0m\u001b[0m\n\u001b[0m\u001b[0;32m    170\u001b[0m         \u001b[0mself\u001b[0m\u001b[1;33m.\u001b[0m\u001b[0mloss_history\u001b[0m\u001b[1;33m.\u001b[0m\u001b[0mappend\u001b[0m\u001b[1;33m(\u001b[0m\u001b[0mloss\u001b[0m\u001b[1;33m)\u001b[0m\u001b[1;33m\u001b[0m\u001b[1;33m\u001b[0m\u001b[0m\n\u001b[0;32m    171\u001b[0m \u001b[1;33m\u001b[0m\u001b[0m\n",
      "\u001b[1;32m~\\OneDrive\\Documents\\SemestreHiver2020\\IFT725\\TP2_IFT725\\prog\\ift725\\classifiers\\fc_net.py\u001b[0m in \u001b[0;36mloss\u001b[1;34m(self, X, y)\u001b[0m\n\u001b[0;32m     97\u001b[0m         \u001b[1;31m#  NOTES: score est la sortie du réseau *SANS SOFTMAX*                     #\u001b[0m\u001b[1;33m\u001b[0m\u001b[1;33m\u001b[0m\u001b[1;33m\u001b[0m\u001b[0m\n\u001b[0;32m     98\u001b[0m         \u001b[1;31m############################################################################\u001b[0m\u001b[1;33m\u001b[0m\u001b[1;33m\u001b[0m\u001b[1;33m\u001b[0m\u001b[0m\n\u001b[1;32m---> 99\u001b[1;33m         \u001b[0mscores_layer_1\u001b[0m\u001b[1;33m,\u001b[0m \u001b[0mcache_input_layer\u001b[0m \u001b[1;33m=\u001b[0m \u001b[0mforward_fully_connected\u001b[0m\u001b[1;33m(\u001b[0m\u001b[0mX\u001b[0m\u001b[1;33m,\u001b[0m \u001b[0mself\u001b[0m\u001b[1;33m.\u001b[0m\u001b[0mparams\u001b[0m\u001b[1;33m[\u001b[0m\u001b[1;34m'W1'\u001b[0m\u001b[1;33m]\u001b[0m\u001b[1;33m,\u001b[0m \u001b[0mself\u001b[0m\u001b[1;33m.\u001b[0m\u001b[0mparams\u001b[0m\u001b[1;33m[\u001b[0m\u001b[1;34m'b1'\u001b[0m\u001b[1;33m]\u001b[0m\u001b[1;33m)\u001b[0m\u001b[1;33m\u001b[0m\u001b[1;33m\u001b[0m\u001b[0m\n\u001b[0m\u001b[0;32m    100\u001b[0m         \u001b[0mscores_layer_1\u001b[0m\u001b[1;33m,\u001b[0m \u001b[0mcached_relu\u001b[0m \u001b[1;33m=\u001b[0m \u001b[0mforward_relu\u001b[0m\u001b[1;33m(\u001b[0m\u001b[0mscores_layer_1\u001b[0m\u001b[1;33m)\u001b[0m\u001b[1;33m\u001b[0m\u001b[1;33m\u001b[0m\u001b[0m\n\u001b[0;32m    101\u001b[0m         \u001b[0mscores\u001b[0m\u001b[1;33m,\u001b[0m \u001b[0mcache_hidden_layer\u001b[0m \u001b[1;33m=\u001b[0m \u001b[0mforward_fully_connected\u001b[0m\u001b[1;33m(\u001b[0m\u001b[0mscores_layer_1\u001b[0m\u001b[1;33m,\u001b[0m \u001b[0mself\u001b[0m\u001b[1;33m.\u001b[0m\u001b[0mparams\u001b[0m\u001b[1;33m[\u001b[0m\u001b[1;34m'W2'\u001b[0m\u001b[1;33m]\u001b[0m\u001b[1;33m,\u001b[0m \u001b[0mself\u001b[0m\u001b[1;33m.\u001b[0m\u001b[0mparams\u001b[0m\u001b[1;33m[\u001b[0m\u001b[1;34m'b2'\u001b[0m\u001b[1;33m]\u001b[0m\u001b[1;33m)\u001b[0m\u001b[1;33m\u001b[0m\u001b[1;33m\u001b[0m\u001b[0m\n",
      "\u001b[1;32m~\\OneDrive\\Documents\\SemestreHiver2020\\IFT725\\TP2_IFT725\\prog\\ift725\\layers.py\u001b[0m in \u001b[0;36mforward_fully_connected\u001b[1;34m(x, w, b)\u001b[0m\n\u001b[0;32m     38\u001b[0m     \u001b[0mnb_batch\u001b[0m \u001b[1;33m=\u001b[0m \u001b[0mx\u001b[0m\u001b[1;33m.\u001b[0m\u001b[0mshape\u001b[0m\u001b[1;33m[\u001b[0m\u001b[1;36m0\u001b[0m\u001b[1;33m]\u001b[0m\u001b[1;33m\u001b[0m\u001b[1;33m\u001b[0m\u001b[0m\n\u001b[0;32m     39\u001b[0m     \u001b[0mxflat\u001b[0m \u001b[1;33m=\u001b[0m \u001b[0mx\u001b[0m\u001b[1;33m.\u001b[0m\u001b[0mreshape\u001b[0m\u001b[1;33m(\u001b[0m\u001b[0mnb_batch\u001b[0m\u001b[1;33m,\u001b[0m \u001b[0mw\u001b[0m\u001b[1;33m.\u001b[0m\u001b[0mshape\u001b[0m\u001b[1;33m[\u001b[0m\u001b[1;36m0\u001b[0m\u001b[1;33m]\u001b[0m\u001b[1;33m)\u001b[0m\u001b[1;33m\u001b[0m\u001b[1;33m\u001b[0m\u001b[0m\n\u001b[1;32m---> 40\u001b[1;33m     \u001b[0mout\u001b[0m \u001b[1;33m=\u001b[0m \u001b[0mnp\u001b[0m\u001b[1;33m.\u001b[0m\u001b[0mdot\u001b[0m\u001b[1;33m(\u001b[0m\u001b[0mxflat\u001b[0m\u001b[1;33m,\u001b[0m \u001b[0mw\u001b[0m\u001b[1;33m)\u001b[0m \u001b[1;33m+\u001b[0m \u001b[0mb\u001b[0m\u001b[1;33m\u001b[0m\u001b[1;33m\u001b[0m\u001b[0m\n\u001b[0m\u001b[0;32m     41\u001b[0m \u001b[1;33m\u001b[0m\u001b[0m\n\u001b[0;32m     42\u001b[0m     \u001b[1;31m#############################################################################\u001b[0m\u001b[1;33m\u001b[0m\u001b[1;33m\u001b[0m\u001b[1;33m\u001b[0m\u001b[0m\n",
      "\u001b[1;31mValueError\u001b[0m: operands could not be broadcast together with shapes (200,100) (3072,100) "
     ],
     "ename": "ValueError",
     "evalue": "operands could not be broadcast together with shapes (200,100) (3072,100) ",
     "output_type": "error"
    }
   ],
   "source": [
    "\n",
    "##############################################################################\n",
    "# TODO: Utilisez une instance de Solver pour entrainer un TwoLayerNeuralNet  #\n",
    "#  qui atteint au moins 50% de précision sur l'ensemble de validation.       #\n",
    "##############################################################################\n",
    "model = TwoLayerNeuralNet(reg=1)\n",
    "solver = Solver(model, data,\n",
    "                  update_rule='sgd',\n",
    "                  optim_config={\n",
    "                    'learning_rate': 1e-3,\n",
    "                  },\n",
    "                  lr_decay=0.90,\n",
    "                  num_epochs=40, batch_size=200,\n",
    "                  print_every=100)\n",
    "solver.train()\n",
    "\n",
    "##############################################################################\n",
    "#                             FIN DE VOTRE CODE                              #\n",
    "##############################################################################"
   ]
  },
  {
   "cell_type": "code",
   "execution_count": null,
   "metadata": {
    "pycharm": {
     "is_executing": false
    }
   },
   "outputs": [],
   "source": [
    "# Run this cell to visualize training loss and train / val accuracy\n",
    "\n",
    "plt.subplot(2, 1, 1)\n",
    "plt.title('Training loss')\n",
    "plt.plot(solver.loss_history, 'o')\n",
    "plt.xlabel('Iteration')\n",
    "\n",
    "plt.subplot(2, 1, 2)\n",
    "plt.title('Accuracy')\n",
    "plt.plot(solver.train_acc_history, '-o', label='train')\n",
    "plt.plot(solver.val_acc_history, '-o', label='val')\n",
    "plt.plot([0.5] * len(solver.val_acc_history), 'k--')\n",
    "plt.xlabel('Epoch')\n",
    "plt.legend(loc='lower right')\n",
    "plt.gcf().set_size_inches(15, 12)\n",
    "plt.show()"
   ]
  },
  {
   "cell_type": "markdown",
   "metadata": {},
   "source": [
    "# Réseau de neurones multi-couches\n",
    "Maintenant vous devez implanter un réseau ayant un nombre arbitraire de couches.\n",
    "\n",
    "Pour ce faire, prenez connaissance de la classe `FullyConnectedNeuralNet` du fichier `ift725/classifiers/fc_net.py`.\n",
    "\n",
    "Vous devez implanter **l'initialization, la propagation avant et la rétro-propagation**. Pour le moment, ne vous souciez pas de dropout ni de batch norm."
   ]
  },
  {
   "cell_type": "markdown",
   "metadata": {},
   "source": [
    "##  Fonction de perte et vérification du gradient"
   ]
  },
  {
   "cell_type": "markdown",
   "metadata": {},
   "source": [
    "La prochaine cellule effectue une vérification dilligente.  Exécutez la cellule afin de vous assurez que la loss avec et sans régularisation fonctionne. "
   ]
  },
  {
   "cell_type": "code",
   "execution_count": null,
   "metadata": {
    "pycharm": {
     "is_executing": false
    }
   },
   "outputs": [],
   "source": [
    "from ift725.classifiers.fc_net import *\n",
    "N, D, H1, H2, C = 2, 15, 20, 30, 10\n",
    "X = np.random.randn(N, D)\n",
    "y = np.random.randint(C, size=(N,)) \n",
    "\n",
    "for reg in [0, 3.14]:\n",
    "  print('Running check with reg = ', reg)\n",
    "  model = FullyConnectedNeuralNet([H1, H2], input_dim=D, num_classes=C,\n",
    "                            reg=reg, weight_scale=5e-2, dtype=np.float64)\n",
    "\n",
    "  loss, grads = model.loss(X, y)\n",
    "  print('Initial loss: ', loss)\n",
    "    \n",
    "  # Relative error should be below 1e-5\n",
    "  for name in sorted(grads):\n",
    "    f = lambda _: model.loss(X, y)[0]\n",
    "    grad_num = eval_numerical_gradient(f, model.params[name], verbose=False, h=1e-5)\n",
    "    print('%s relative error: %.2e' % (name, rel_error(grad_num, grads[name])))"
   ]
  },
  {
   "cell_type": "markdown",
   "metadata": {},
   "source": [
    "## Question 1:\n",
    "\n",
    "Pourquoi croyez-vous que les résultats de la cellule précédentes font foi d'une bonne fonction de perte?\n",
    "     \n",
    "**Votre réponse:** ..."
   ]
  },
  {
   "cell_type": "markdown",
   "metadata": {},
   "source": [
    "Autre vérification diligente, assurez-vous que votre code peut \"overfitter\" sur un petit ensemble de 50 images. Pour ce faire, essayons un réseau à 3 couches cachées ayant chacune 100 neurones. Une recherche d'hyper-paramètres sera effectué pour trouver le bon taux d'apprentissage (learning rate) ainsi que le `weight_scale`.  Vous devriez être capable d'atteindre une justesse en entraînement de 100% avec 20 epochs."
   ]
  },
  {
   "cell_type": "code",
   "execution_count": null,
   "metadata": {
    "pycharm": {
     "is_executing": false
    }
   },
   "outputs": [],
   "source": [
    "num_train = 50\n",
    "small_data = {\n",
    "  'X_train': data['X_train'][:num_train],\n",
    "  'y_train': data['y_train'][:num_train],\n",
    "  'X_val': data['X_val'],\n",
    "  'y_val': data['y_val'],\n",
    "}\n",
    "\n",
    "best_weight_scale = 0.\n",
    "best_learning_rate = 0.\n",
    "best_training_acc = 0.\n",
    "\n",
    "##############################################################################\n",
    "# TODO: Utilisez une instance de Solver pour entrainer un réseau à 3 couches #\n",
    "#  et 100 neurones par couche à overfitter 50 images de CIFAR10.  Il est     #\n",
    "#  suggéré d'effectuer une recherche d'hyperparamètres pour trouver le bon   #\n",
    "#  `learning_rate` et le bon `weight_scale`.                                 #\n",
    "##############################################################################\n",
    "\n",
    "\n",
    "\n",
    "##############################################################################\n",
    "#                             FIN DE VOTRE CODE                              #\n",
    "##############################################################################\n",
    "\n",
    "print('The best learning_rate, weight_scale and training accuracy are',best_weight_scale, best_learning_rate, best_training_acc)"
   ]
  },
  {
   "cell_type": "code",
   "execution_count": null,
   "metadata": {
    "pycharm": {
     "is_executing": false
    }
   },
   "outputs": [],
   "source": [
    "# Visualize the cross-validation results\n",
    "# import math\n",
    "marker_size = 100\n",
    "x_scatter, x_label = [np.log10(x[0]) for x in results], 'log weight scale'\n",
    "y_scatter, y_label = [np.log10(x[1]) for x in results], 'log learning rate'\n",
    "\n",
    "# plot validation accuracy\n",
    "colors = [results[x] for x in results] # default size of markers is 20\n",
    "plt.subplot(2, 1, 2)\n",
    "plt.scatter(x_scatter, y_scatter, marker_size, c=colors)\n",
    "plt.colorbar()\n",
    "plt.xlabel(x_label)\n",
    "plt.ylabel(y_label)\n",
    "plt.title('Train accuracy')\n",
    "plt.show()"
   ]
  },
  {
   "cell_type": "markdown",
   "metadata": {},
   "source": [
    "Maintenant, faites la même chose pour un réseau à 5 couches."
   ]
  },
  {
   "cell_type": "code",
   "execution_count": null,
   "metadata": {
    "pycharm": {
     "is_executing": false
    }
   },
   "outputs": [],
   "source": [
    "num_train = 50\n",
    "small_data = {\n",
    "  'X_train': data['X_train'][:num_train],\n",
    "  'y_train': data['y_train'][:num_train],\n",
    "  'X_val': data['X_val'],\n",
    "  'y_val': data['y_val'],\n",
    "}\n",
    "\n",
    "##############################################################################\n",
    "# TODO: Utilisez une instance de Solver pour entrainer un réseau à 5 couches #\n",
    "#  à 100 neurones à overfitter 50 images de CIFAR10.  Il est suggérer de     #\n",
    "#  d'effectuer une recherche d'hyperparamètres pour trouver le bon           #\n",
    "#  `learning_rate` et le bon `weight_scale`.                                 #\n",
    "##############################################################################\n",
    "\n",
    "def uniform(minv, maxv):\n",
    "    return np.random.rand() * (maxv - minv) + minv\n",
    "\n",
    "results = {}\n",
    "for _ in range(40):\n",
    "    weight_scale = 10 ** uniform(-2, -1)\n",
    "    learning_rate = 10 ** uniform(-4, -2)\n",
    "    print(weight_scale, learning_rate, '\\n')\n",
    "    \n",
    "    model = FullyConnectedNeuralNet([100, 100, 100, 100],\n",
    "                  weight_scale=weight_scale, dtype=np.float64)\n",
    "    solver = Solver(model, small_data,\n",
    "                    print_every=10, num_epochs=20, batch_size=25,\n",
    "                    update_rule='sgd',\n",
    "                    optim_config={\n",
    "                      'learning_rate': learning_rate,\n",
    "                    }, verbose=False)\n",
    "    solver.train()\n",
    "    train_acc = solver.train_acc_history[-1]\n",
    "    print('final loss:', solver.loss_history[-1], ' train_acc:', train_acc)\n",
    "    print('\\n')\n",
    "    plt.plot(solver.loss_history)\n",
    "    results[(weight_scale, learning_rate)] = train_acc\n",
    "\n",
    "plt.plot(solver.loss_history, 'o')\n",
    "plt.title('Training loss history')\n",
    "plt.xlabel('Iteration')\n",
    "plt.ylabel('Training loss')\n",
    "plt.show()\n",
    "\n",
    "\n",
    "##############################################################################\n",
    "#                             FIN DE VOTRE CODE                              #\n",
    "##############################################################################\n",
    "best_weight_scale = 0.\n",
    "best_learning_rate = 0.\n",
    "best_training_acc = 0.\n",
    "print('The best learning_rate, weight_scale and training accuracy are',best_weight_scale, best_learning_rate, best_training_acc)"
   ]
  },
  {
   "cell_type": "code",
   "execution_count": null,
   "metadata": {
    "pycharm": {
     "is_executing": false
    }
   },
   "outputs": [],
   "source": [
    "# Visualize the cross-validation results\n",
    "# import math\n",
    "marker_size = 100\n",
    "x_scatter, x_label = [np.log10(x[0]) for x in results], 'log weight scale'\n",
    "y_scatter, y_label = [np.log10(x[1]) for x in results], 'log learning rate'\n",
    "\n",
    "# plot validation accuracy\n",
    "colors = [results[x] for x in results] # default size of markers is 20\n",
    "plt.subplot(2, 1, 2)\n",
    "plt.scatter(x_scatter, y_scatter, marker_size, c=colors)\n",
    "plt.colorbar()\n",
    "plt.xlabel(x_label)\n",
    "plt.ylabel(y_label)\n",
    "plt.title('Train accuracy')\n",
    "plt.show()"
   ]
  },
  {
   "cell_type": "markdown",
   "metadata": {},
   "source": [
    "# Descente de gradient ++\n",
    "Jusqu'à présent nous avons utilisé l'algorithmes de base de la descente de gradient (SGD-stochastic gradient descent). Ici nous testerons d'autres algorithmes plus sophistiqués."
   ]
  },
  {
   "cell_type": "markdown",
   "metadata": {},
   "source": [
    "# SGD+Momentum\n",
    "SGD+momentum est très largement utilisé.  Ouvrez  `ift725/optim.py` et prenez connaissance du code et implémentez la fonction `sgd_momentum` et exécutez la cellule que voici. Votre erreur devrait être inféreieure à 1e-6."
   ]
  },
  {
   "cell_type": "code",
   "execution_count": null,
   "metadata": {
    "pycharm": {
     "is_executing": false
    }
   },
   "outputs": [],
   "source": [
    "from ift725.optim import sgd_momentum\n",
    "\n",
    "N, D = 4, 5\n",
    "w = np.linspace(-0.4, 0.6, num=N*D).reshape(N, D)\n",
    "dw = np.linspace(-0.6, 0.4, num=N*D).reshape(N, D)\n",
    "v = np.linspace(0.6, 0.9, num=N*D).reshape(N, D)\n",
    "\n",
    "config = {'learning_rate': 1e-3, 'velocity': v}\n",
    "next_w, _ = sgd_momentum(w, dw, config=config)\n",
    "\n",
    "expected_next_w = np.asarray([\n",
    "    [-0.39994,    -0.34737526, -0.29481053, -0.24224579, -0.18968105],\n",
    "    [-0.13711632, -0.08455158, -0.03198684,  0.02057789,  0.07314263],\n",
    "    [ 0.12570737,  0.17827211,  0.23083684,  0.28340158,  0.33596632],\n",
    "    [ 0.38853105,  0.44109579,  0.49366053,  0.54622526,  0.59879   ]])\n",
    "expected_velocity = np.asarray([\n",
    "    [-0.06 ,       0.00684211,  0.07368421,  0.14052632,  0.20736842],\n",
    "    [ 0.27421053,  0.34105263,  0.40789474,  0.47473684,  0.54157895],\n",
    "    [ 0.60842105,  0.67526316,  0.74210526,  0.80894737,  0.87578947],\n",
    "    [ 0.94263158,  1.00947368,  1.07631579,  1.14315789,  1.21      ]])\n",
    "\n",
    "# Error should be below 1e-06\n",
    "print('next_w error: ', rel_error(next_w, expected_next_w))\n",
    "print('velocity error: ', rel_error(expected_velocity, config['velocity']))"
   ]
  },
  {
   "cell_type": "markdown",
   "metadata": {},
   "source": [
    "Maintenant, excécutez cette cellule.  Normalement, le réseau à 6 couches devrait s'entraîner plus rapidement avec SGD+momentum qu'avec SGD."
   ]
  },
  {
   "cell_type": "code",
   "execution_count": null,
   "metadata": {
    "pycharm": {
     "is_executing": false
    }
   },
   "outputs": [],
   "source": [
    "num_train = 4000\n",
    "small_data = {\n",
    "  'X_train': data['X_train'][:num_train],\n",
    "  'y_train': data['y_train'][:num_train],\n",
    "  'X_val': data['X_val'],\n",
    "  'y_val': data['y_val'],\n",
    "}\n",
    "\n",
    "solvers = {}\n",
    "\n",
    "for update_rule in ['sgd', 'sgd_momentum']:\n",
    "  print('running with ', update_rule)\n",
    "  model = FullyConnectedNeuralNet([100, 100, 100, 100, 100], weight_scale=5e-2)\n",
    "\n",
    "  solver = Solver(model, small_data,\n",
    "                  num_epochs=10, batch_size=100,\n",
    "                  update_rule=update_rule,\n",
    "                  optim_config={\n",
    "                    'learning_rate': 1e-2,\n",
    "                  },\n",
    "                  verbose=True)\n",
    "  solvers[update_rule] = solver\n",
    "  solver.train()\n",
    "  print()\n",
    "\n",
    "plt.subplot(3, 1, 1)\n",
    "plt.title('Training loss')\n",
    "plt.xlabel('Iteration')\n",
    "\n",
    "plt.subplot(3, 1, 2)\n",
    "plt.title('Training accuracy')\n",
    "plt.xlabel('Epoch')\n",
    "\n",
    "plt.subplot(3, 1, 3)\n",
    "plt.title('Validation accuracy')\n",
    "plt.xlabel('Epoch')\n",
    "\n",
    "for update_rule, solver in solvers.items():\n",
    "  plt.subplot(3, 1, 1)\n",
    "  plt.plot(solver.loss_history, '-o', label=update_rule)\n",
    "  \n",
    "  plt.subplot(3, 1, 2)\n",
    "  plt.plot(solver.train_acc_history, '-o', label=update_rule)\n",
    "\n",
    "  plt.subplot(3, 1, 3)\n",
    "  plt.plot(solver.val_acc_history, '-o', label=update_rule)\n",
    "  \n",
    "for i in [1, 2, 3]:\n",
    "  plt.subplot(3, 1, i)\n",
    "  plt.legend(loc='upper center', ncol=4)\n",
    "plt.gcf().set_size_inches(15, 15)\n",
    "plt.show()"
   ]
  },
  {
   "cell_type": "markdown",
   "metadata": {},
   "source": [
    "# RMSProp et Adam\n",
    "RMSProp [1] et Adam [2] sont d'autres algorithmes de descente de gradient dont le code est dans le fichier `ift725/optim.py`.   Alors que le code de Adam vous est fournit, vous devez rédigé celui de RMSProp.\n",
    "\n",
    "[1] Tijmen Tieleman and Geoffrey Hinton. \"Lecture 6.5-rmsprop: Divide the gradient by a running average of its recent magnitude.\" COURSERA: Neural Networks for Machine Learning 4 (2012).\n",
    "\n",
    "[2] Diederik Kingma and Jimmy Ba, \"Adam: A Method for Stochastic Optimization\", ICLR 2015."
   ]
  },
  {
   "cell_type": "code",
   "execution_count": null,
   "metadata": {
    "pycharm": {
     "is_executing": false
    }
   },
   "outputs": [],
   "source": [
    "# Test RMSProp implementation; you should see errors less than 1e-7\n",
    "import numpy as np\n",
    "from ift725.optim import rmsprop\n",
    "\n",
    "N, D = 4, 5\n",
    "w = np.linspace(-0.4, 0.6, num=N*D).reshape(N, D)\n",
    "dw = np.linspace(-0.6, 0.4, num=N*D).reshape(N, D)\n",
    "cache = np.linspace(0.6, 0.9, num=N*D).reshape(N, D)\n",
    "\n",
    "config = {'learning_rate': 1e-2, 'cache': cache}\n",
    "next_w, _ = rmsprop(w, dw, config=config)\n",
    "\n",
    "expected_next_w = np.asarray([\n",
    "    [-0.39,       -0.33846964, -0.2868865,  -0.23525427, -0.18357633],\n",
    "    [-0.13185574, -0.0800953,  -0.02829757,  0.02353511,  0.07540058],\n",
    "    [ 0.12729687,  0.17922215,  0.23117507,  0.28315533,  0.33516143],\n",
    "    [ 0.38719188,  0.43924528,  0.49132033,  0.54341585,  0.59553073]])\n",
    "expected_cache = np.asarray([\n",
    "    [0.6,        0.61510526, 0.63021053, 0.64531579, 0.66042105],\n",
    " [0.67552632, 0.69063158, 0.70573684, 0.72084211, 0.73594737],\n",
    " [0.75105263, 0.76615789, 0.78189474, 0.79805263, 0.81421053],\n",
    " [0.83036842, 0.84652632, 0.86268421, 0.87884211, 0.895     ]])  \n",
    "\n",
    "\n",
    "print('next_w error: ', rel_error(expected_next_w, next_w))\n",
    "print('cache error: ', rel_error(expected_cache, config['cache']))"
   ]
  },
  {
   "cell_type": "code",
   "execution_count": null,
   "metadata": {
    "pycharm": {
     "is_executing": false
    }
   },
   "outputs": [],
   "source": [
    "# Test Adam implementation; you should see errors around 1e-7 or less\n",
    "from ift725.optim import adam\n",
    "\n",
    "N, D = 4, 5\n",
    "w = np.linspace(-0.4, 0.6, num=N*D).reshape(N, D)\n",
    "dw = np.linspace(-0.6, 0.4, num=N*D).reshape(N, D)\n",
    "m = np.linspace(0.6, 0.9, num=N*D).reshape(N, D)\n",
    "v = np.linspace(0.7, 0.5, num=N*D).reshape(N, D)\n",
    "\n",
    "config = {'learning_rate': 1e-2, 'm': m, 'v': v, 't': 5}\n",
    "next_w, config = adam(w, dw, config=config)\n",
    "\n",
    "expected_next_w = np.asarray([\n",
    "  [-0.40094747, -0.34836187, -0.29577703, -0.24319299, -0.19060977],\n",
    "  [-0.1380274,  -0.08544591, -0.03286534,  0.01971428,  0.0722929],\n",
    "  [ 0.1248705,   0.17744702,  0.23002243,  0.28259667,  0.33516969],\n",
    "  [ 0.38774145,  0.44031188,  0.49288093,  0.54544852,  0.59801459]])\n",
    "expected_v = np.asarray([\n",
    "  [ 0.69966,     0.68908382,  0.67851319,  0.66794809,  0.65738853,],\n",
    "  [ 0.64683452,  0.63628604,  0.6257431,   0.61520571,  0.60467385,],\n",
    "  [ 0.59414753,  0.58362676,  0.57311152,  0.56260183,  0.55209767,],\n",
    "  [ 0.54159906,  0.53110598,  0.52061845,  0.51013645,  0.49966,   ]])\n",
    "expected_m = np.asarray([\n",
    "  [ 0.48,        0.49947368,  0.51894737,  0.53842105,  0.55789474],\n",
    "  [ 0.57736842,  0.59684211,  0.61631579,  0.63578947,  0.65526316],\n",
    "  [ 0.67473684,  0.69421053,  0.71368421,  0.73315789,  0.75263158],\n",
    "  [ 0.77210526,  0.79157895,  0.81105263,  0.83052632,  0.85      ]])\n",
    "\n",
    "print('next_w error: ', rel_error(expected_next_w, next_w))\n",
    "print('v error: ', rel_error(expected_v, config['v']))\n",
    "print('m error: ', rel_error(expected_m, config['m']))"
   ]
  },
  {
   "cell_type": "markdown",
   "metadata": {},
   "source": [
    "Exécuter le code que voici afin de comparer ces différent algorithmes.  En pricipe Adam devrait être le meilleur algorithme."
   ]
  },
  {
   "cell_type": "code",
   "execution_count": null,
   "metadata": {
    "pycharm": {
     "is_executing": false
    }
   },
   "outputs": [],
   "source": [
    "learning_rates = {'rmsprop': 1e-4, 'adam': 1e-3}\n",
    "for update_rule in ['adam', 'rmsprop']:\n",
    "  print('running with ', update_rule)\n",
    "  model = FullyConnectedNeuralNet([100, 100, 100, 100, 100], weight_scale=5e-2)\n",
    "\n",
    "  solver = Solver(model, small_data,\n",
    "                  num_epochs=10, batch_size=100,\n",
    "                  update_rule=update_rule,\n",
    "                  optim_config={\n",
    "                    'learning_rate': learning_rates[update_rule]\n",
    "                  },\n",
    "                  verbose=True)\n",
    "  solvers[update_rule] = solver\n",
    "  solver.train()\n",
    "  print()\n",
    "\n",
    "plt.subplot(3, 1, 1)\n",
    "plt.title('Training loss')\n",
    "plt.xlabel('Iteration')\n",
    "\n",
    "plt.subplot(3, 1, 2)\n",
    "plt.title('Training accuracy')\n",
    "plt.xlabel('Epoch')\n",
    "\n",
    "plt.subplot(3, 1, 3)\n",
    "plt.title('Validation accuracy')\n",
    "plt.xlabel('Epoch')\n",
    "\n",
    "for update_rule, solver in solvers.items():\n",
    "  plt.subplot(3, 1, 1)\n",
    "  plt.plot(solver.loss_history, 'o', label=update_rule)\n",
    "  \n",
    "  plt.subplot(3, 1, 2)\n",
    "  plt.plot(solver.train_acc_history, '-o', label=update_rule)\n",
    "\n",
    "  plt.subplot(3, 1, 3)\n",
    "  plt.plot(solver.val_acc_history, '-o', label=update_rule)\n",
    "  \n",
    "for i in [1, 2, 3]:\n",
    "  plt.subplot(3, 1, i)\n",
    "  plt.legend(loc='upper center', ncol=4)\n",
    "plt.gcf().set_size_inches(15, 15)\n",
    "plt.show()"
   ]
  },
  {
   "cell_type": "markdown",
   "metadata": {},
   "source": [
    "# Entraînez un bon model!\n",
    "Entraînez le meilleur réseau de neurones possible sur CIFAR-10 et mettez le meilleur modèle dans la variable `best_model`. Vous devriez avoir au moins une justesse 50% (voire même 55%) en validation et en test.\n",
    "\n",
    "Plus tard dans le devoir, on vous demandera d'entrainer et de tester une réseau convolutionnel sur CIFAR-10.  Vous verrez alors que cette architecture est supérieure aux réseaus de neurones pleinement connectés.\n",
    "\n",
    "NOTE: il serait judicieux de compléter le notebook `BatchNormalization.ipynb` et `Dropout.ipynb` avant de compléter cette dernière partie."
   ]
  },
  {
   "cell_type": "code",
   "execution_count": null,
   "metadata": {
    "pycharm": {
     "is_executing": false
    }
   },
   "outputs": [],
   "source": [
    "do_delete = True"
   ]
  },
  {
   "cell_type": "code",
   "execution_count": null,
   "metadata": {
    "pycharm": {
     "is_executing": false
    }
   },
   "outputs": [],
   "source": [
    "if do_delete:\n",
    "    trys = []\n",
    "    best_try = -1\n",
    "    best_val_acc = 0\n",
    "    print('Deleted trys')\n",
    "else:\n",
    "    print('Did not delete trys')\n",
    "do_delete = False"
   ]
  },
  {
   "cell_type": "code",
   "execution_count": null,
   "metadata": {
    "pycharm": {
     "is_executing": false
    }
   },
   "outputs": [],
   "source": [
    "best_model = None\n",
    "################################################################################\n",
    "# TODO: Entrainez le meilleur FullyConnectedNeuralNet que vous pouvez sur les  #\n",
    "#  données CIFAR-10. Vous pourriez trouver la normalization par lots et le     #\n",
    "#  dropout utile. Stockez votre meilleur modèle dans la variable best_model.   #\n",
    "################################################################################\n",
    "\n",
    "def uniform(minv, maxv):\n",
    "    return np.random.rand() * (maxv - minv) + minv\n",
    "\n",
    "if 'trys' not in locals():\n",
    "    trys = []\n",
    "    best_try = -1\n",
    "    best_val_acc = 0\n",
    "for i in range(1):\n",
    "    # reg 0.00779190546432  lr 0.000423844376859\n",
    "    # reg 0.000204588367827 lr 0.000529341067109\n",
    "    weight_scale = 3e-2  # 10 ** uniform(-3, -1)\n",
    "    lr = 10 ** -2.5  # 10 ** uniform(-4, -2)\n",
    "    reg = 1e-10  # 10 ** uniform(-6, -3)\n",
    "    \n",
    "    model = FullyConnectedNeuralNet([100] * 5, weight_scale=weight_scale, reg=reg, use_batchnorm=True)\n",
    "\n",
    "    solver = Solver(model, data,\n",
    "                  num_epochs=30, batch_size=100,\n",
    "                  update_rule='adam',\n",
    "                  optim_config={\n",
    "                    'learning_rate': lr\n",
    "                  },\n",
    "                  print_every=200,\n",
    "                  verbose=True)\n",
    "    solver.train()\n",
    "    \n",
    "    max_val_acc = np.max(solver.val_acc_history)\n",
    "    cur_index = len(trys)\n",
    "    print('Try', cur_index, 'Max accu. val.', max_val_acc, 'p:', weight_scale, reg, lr, ('Record!' if max_val_acc > best_val_acc else ''))\n",
    "    trys.append({\n",
    "            'ws': weight_scale, 'reg': reg, 'lr': lr,\n",
    "            'maxvacc': max_val_acc,\n",
    "            'lossh': solver.loss_history,\n",
    "            'tacch': solver.train_acc_history,\n",
    "            'vacch': solver.val_acc_history,\n",
    "            'model': model\n",
    "        })\n",
    "    \n",
    "    if max_val_acc > best_val_acc:\n",
    "        best_val_acc = max_val_acc\n",
    "        best_try = cur_index\n",
    "        \n",
    "print('Best try:', best_try)\n",
    "print('Total tries', len(trys))\n",
    "################################################################################\n",
    "#                              FIN DE VOTRE CODE                               #\n",
    "################################################################################"
   ]
  },
  {
   "cell_type": "code",
   "execution_count": null,
   "metadata": {
    "pycharm": {
     "is_executing": false
    }
   },
   "outputs": [],
   "source": [
    "# Visualize the cross-validation results\n",
    "forget = 0\n",
    "new_tries = trys[forget:]\n",
    "marker_size = 100\n",
    "#x_scatter, x_label = [np.log10(x['ws']) for x in new_tries], 'log weight scale'\n",
    "x_scatter, x_label = [np.log10(x['lr']) for x in new_tries], 'log lr'\n",
    "y_scatter, y_label = [np.log10(x['reg']) for x in new_tries], 'log reg'\n",
    "\n",
    "# plot validation accuracy\n",
    "colors = [x['maxvacc'] for x in new_tries] # default size of markers is 20\n",
    "isorted = np.argsort(colors)\n",
    "x_scatter = np.asarray(x_scatter)[isorted]\n",
    "y_scatter = np.asarray(y_scatter)[isorted]\n",
    "colors = np.asarray(colors)[isorted]\n",
    "plt.subplot(2, 1, 2)\n",
    "plt.scatter(x_scatter, y_scatter, marker_size, c=colors)\n",
    "plt.colorbar()\n",
    "plt.xlabel(x_label)\n",
    "plt.ylabel(y_label)\n",
    "plt.title('Validation accuracy')\n",
    "plt.show()"
   ]
  },
  {
   "cell_type": "code",
   "execution_count": null,
   "metadata": {
    "pycharm": {
     "is_executing": false
    }
   },
   "outputs": [],
   "source": [
    "ref = trys[best_try]\n",
    "best_try = -1\n",
    "plt.subplot(2, 1, 1)\n",
    "plt.title('Training loss')\n",
    "plt.xlabel('Iteration')\n",
    "plt.plot(trys[best_try]['lossh'], '-')\n",
    "plt.plot(ref['lossh'], '-')\n",
    "\n",
    "plt.subplot(2, 1, 2)\n",
    "plt.title('Accuracy')\n",
    "plt.xlabel('Epoch')\n",
    "plt.plot(trys[best_try]['tacch'], '-', label='Train')\n",
    "plt.plot(trys[best_try]['vacch'], '-', label='Valid')\n",
    "plt.plot(ref['tacch'], '-', label='Train ref')\n",
    "plt.plot(ref['vacch'], '-', label='Valid ref')\n",
    "plt.legend(loc='lower center')\n",
    "\n",
    "plt.tight_layout(pad=0, w_pad=0, h_pad=2)\n",
    "plt.show()"
   ]
  },
  {
   "cell_type": "markdown",
   "metadata": {},
   "source": [
    "# Test your model\n",
    "Run your best model on the validation and test sets. You should achieve above 53% accuracy on the validation set."
   ]
  },
  {
   "cell_type": "code",
   "execution_count": null,
   "metadata": {
    "pycharm": {
     "is_executing": false
    }
   },
   "outputs": [],
   "source": [
    "best_model = trys[best_try]['model']\n",
    "X_test = data['X_test']\n",
    "y_test = data['y_test']\n",
    "X_val  = data['X_val']\n",
    "y_val  = data['y_val']\n",
    "y_test_pred = np.argmax(best_model.loss(X_test), axis=1)\n",
    "y_val_pred = np.argmax(best_model.loss(X_val), axis=1)\n",
    "print('Validation set accuracy: ', (y_val_pred == y_val).mean())\n",
    "print('Test set accuracy: ', (y_test_pred == y_test).mean())"
   ]
  },
  {
   "cell_type": "code",
   "execution_count": null,
   "metadata": {
    "pycharm": {
     "is_executing": false
    }
   },
   "outputs": [],
   "source": []
  }
 ],
 "metadata": {
  "anaconda-cloud": {},
  "kernelspec": {
   "display_name": "Python 3",
   "language": "python",
   "name": "python3"
  },
  "language_info": {
   "codemirror_mode": {
    "name": "ipython",
    "version": 3
   },
   "file_extension": ".py",
   "mimetype": "text/x-python",
   "name": "python",
   "nbconvert_exporter": "python",
   "pygments_lexer": "ipython3",
   "version": "3.7.1"
  },
  "pycharm": {
   "stem_cell": {
    "cell_type": "raw",
    "source": [],
    "metadata": {
     "collapsed": false
    }
   }
  }
 },
 "nbformat": 4,
 "nbformat_minor": 1
}